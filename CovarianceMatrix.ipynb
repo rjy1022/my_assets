{
  "nbformat": 4,
  "nbformat_minor": 0,
  "metadata": {
    "colab": {
      "name": "CovarianceMatrix.ipynb",
      "provenance": [],
      "include_colab_link": true
    },
    "kernelspec": {
      "name": "python3",
      "display_name": "Python 3"
    }
  },
  "cells": [
    {
      "cell_type": "markdown",
      "metadata": {
        "id": "view-in-github",
        "colab_type": "text"
      },
      "source": [
        "<a href=\"https://colab.research.google.com/github/rjy1022/my_assets/blob/main/CovarianceMatrix.ipynb\" target=\"_parent\"><img src=\"https://colab.research.google.com/assets/colab-badge.svg\" alt=\"Open In Colab\"/></a>"
      ]
    },
    {
      "cell_type": "markdown",
      "metadata": {
        "id": "EtqnAHLYfn_g"
      },
      "source": [
        "####To start, we will import ```numpy```, ```numpy.random```, ```numpy.linalg```, and ```matplotlib```."
      ]
    },
    {
      "cell_type": "code",
      "metadata": {
        "id": "XYeSr60yfP5X"
      },
      "source": [
        "import numpy as np\n",
        "from numpy import random\n",
        "from numpy import linalg\n",
        "import matplotlib.pyplot as plt\n",
        "%matplotlib inline"
      ],
      "execution_count": null,
      "outputs": []
    },
    {
      "cell_type": "markdown",
      "metadata": {
        "id": "b4Y3WzCykOkv"
      },
      "source": [
        "## The Covariance Matrix\n"
      ]
    },
    {
      "cell_type": "markdown",
      "metadata": {
        "id": "2Lt4g7Q6XLVX"
      },
      "source": [
        "###Defining the Covariance matrix"
      ]
    },
    {
      "cell_type": "markdown",
      "metadata": {
        "id": "BVdGL3FMf9vu"
      },
      "source": [
        "When dealing with high-dimensional data (especially real-valued data), one of the first things we will typically study is the covariance matrix, $C$.  This matrix descibes all of the pairwise linear correlations between the $d$ different variables that are simultaneously measured.  While this matrix has many limitations in terms of its ability to characterize the high-dimensional data (see question below), there is often much to be learned - and it's easy to calculate! - so it's usually a great place to orient one's self when staring at a new dataset.\n",
        "\n",
        "To be more precise, the covariance matrix is the collection of all linear covariances between each pair of variables.  Mathematically, if $X\\in\\Re^{N\\times d}$ ($N$ is the number of data points, $d$ is the dimensionality of the data), then we define the covariance matrix, C, via:\n",
        "\\begin{equation}\n",
        "C_{ij} = \\frac{1}{N}\\sum_{k=1}^N (X_{ki} - \\bar{X_i})(X_{kj} - \\bar{X_j}),\n",
        "\\end{equation}\n",
        "where \n",
        "\\begin{equation}\n",
        "\\bar{X_i} = \\frac{1}{N}\\sum_{k=1}^N X_{ki}\n",
        "\\end{equation}\n",
        "is the mean of the $i$th variable in $X$.  \n",
        "\n",
        "Note how if $i=j$, $C_{ii}$ is simply the variance of $X_i$.  Thus, the diagonal terms of the matrix describe how individual variables vary, and each of the off-diagonal terms is the *covariance* between the two associated variables (hence the name of the overall matrix).\n",
        "\n",
        "While each of the entries in the matrix can be positive (positively correlated), negative (negatively correlatied), or zero (uncorrelated), the covariance matrix is symmetric (switching $i$ and $j$ in the definition of $C_{ij}$ above results in the same result, so $C_{ij} = C_{ji}$).  Symmetric matrices have many convenient [properties](https://en.wikipedia.org/wiki/Symmetric_matrix), including the fact that all of its eigenvalues must be greater than zero.  We will use this property later.   "
      ]
    },
    {
      "cell_type": "markdown",
      "metadata": {
        "id": "kv8Riu0jhQ9z"
      },
      "source": [
        "<font color='blue'>Question #1: Name at least three potential limitations of using the covariance matrix to characterize high-dimensional data</font> "
      ]
    },
    {
      "cell_type": "markdown",
      "metadata": {
        "id": "4d8ANERUqtWe"
      },
      "source": [
        "<font color='green'>1) possible inacurracy for low N 2) the number of coefficients grows as the dimension squared (curse of dimensionality) 3) normality of data must be assumed</font>"
      ]
    },
    {
      "cell_type": "markdown",
      "metadata": {
        "id": "doJi0WtHXQ_z"
      },
      "source": [
        "### Calculating the Covariance matrix"
      ]
    },
    {
      "cell_type": "markdown",
      "metadata": {
        "id": "bcw6BzHpqnWk"
      },
      "source": [
        "<font color='blue'> Question #2: Given that ```X``` is an ```N``` x ```d``` ```numpy``` array of real valued numbers, write a short script in the box below that (i) initializes a ```d``` x ```d``` ```numpy``` array, ```C``` and (ii) uses two ```for``` loops to fill in each element in ```C``` with the appropriate covariance matrix value, as defined above.</font>"
      ]
    },
    {
      "cell_type": "code",
      "metadata": {
        "id": "pqLRiSxWsOMp",
        "colab": {
          "base_uri": "https://localhost:8080/",
          "height": 141
        },
        "outputId": "4526a04d-bff5-4bc7-8769-e7b6c0678287"
      },
      "source": [
        "from numpy import random\n",
        "x = random.random(size=(100,6))\n",
        "N = 100 #N=number of data points\n",
        "d = 6 #d=dimensionality of data\n",
        "c = np.zeros((d,d))\n",
        "xmean = np.mean(x,axis=0)\n",
        "for i in range(d):\n",
        "  for j in range(d):\n",
        "    sum = 0\n",
        "    xmeani = xmean[i]\n",
        "    xmeanj = xmean[j] \n",
        "    for k in range(N): \n",
        "      sum += (x[k,i]-xmeani)*(x[k,j]-xmeanj)\n",
        "    c[i,j] = sum / N\n",
        "\n",
        "print(c)\n",
        "print(np.shape(c))     \n"
      ],
      "execution_count": null,
      "outputs": [
        {
          "output_type": "stream",
          "text": [
            "[[ 0.07710745 -0.01131967  0.00974631  0.00247219  0.00559106  0.00315186]\n",
            " [-0.01131967  0.07478872  0.00051939  0.00192163 -0.00483183  0.00025256]\n",
            " [ 0.00974631  0.00051939  0.08668817  0.00343602 -0.00433752 -0.00387248]\n",
            " [ 0.00247219  0.00192163  0.00343602  0.0775505   0.00636175 -0.00274663]\n",
            " [ 0.00559106 -0.00483183 -0.00433752  0.00636175  0.08307665  0.00903998]\n",
            " [ 0.00315186  0.00025256 -0.00387248 -0.00274663  0.00903998  0.07876862]]\n",
            "(6, 6)\n"
          ],
          "name": "stdout"
        }
      ]
    },
    {
      "cell_type": "markdown",
      "metadata": {
        "id": "-3jVjCCbwz4x"
      },
      "source": [
        "Despite the question above, you typically will calculate this matrix in ```numpy``` using [```np.cov()```](https://numpy.org/doc/stable/reference/generated/numpy.cov.html).  Note, however, that this function assumes that the input vector takes the form of a dimensions) by the # of data points matrix (i.e., $d\\times N$ rather than $N\\times d$), so if your data set is in the latter format, you will need to transpose it first (e.g., ```C = np.cov(X.T)```)."
      ]
    },
    {
      "cell_type": "markdown",
      "metadata": {
        "id": "mUvgEyMuxvCo"
      },
      "source": [
        "<font color='blue'> Question #3: In the box below, generate a 1000 x 5 matrix, ```Y```, of gaussian random numbers ($mu=0$ and $\\sigma=3$). Then calculate and display its 5 x 5 covariance matrix.  Do the off-diagonal and diagonal entries match your expectations? Why or why not? (You can go back to the python tutorial for a refresher on generating random numbers)</font>"
      ]
    },
    {
      "cell_type": "code",
      "metadata": {
        "id": "D4d_1wKyzaPJ",
        "colab": {
          "base_uri": "https://localhost:8080/",
          "height": 187
        },
        "outputId": "19ef98d3-deba-4433-fb97-841bde98fcf1"
      },
      "source": [
        "y = random.normal(0,3,size=(1000,5))\n",
        "c = np.cov(y.T)\n",
        "print(c)\n",
        "\n",
        "#diagonals of covariance matrix = variance along that particular direction = squared of stdev = 9\n",
        "#off-diagonal terms = random variables = because they're independent, the correlation is zero\n",
        "#greater sample size: correlation closer to 0"
      ],
      "execution_count": null,
      "outputs": [
        {
          "output_type": "stream",
          "text": [
            "[[ 9.80865853e+00 -8.16390214e-02 -9.01175981e-02 -2.18637361e-01\n",
            "  -1.65630496e-01]\n",
            " [-8.16390214e-02  8.54986657e+00  1.26329212e-01  3.52734075e-02\n",
            "  -6.08974240e-02]\n",
            " [-9.01175981e-02  1.26329212e-01  8.51755531e+00 -7.36721693e-02\n",
            "  -8.59976775e-03]\n",
            " [-2.18637361e-01  3.52734075e-02 -7.36721693e-02  9.40285574e+00\n",
            "  -3.20001741e-01]\n",
            " [-1.65630496e-01 -6.08974240e-02 -8.59976775e-03 -3.20001741e-01\n",
            "   8.67577858e+00]]\n"
          ],
          "name": "stdout"
        }
      ]
    },
    {
      "cell_type": "markdown",
      "metadata": {
        "id": "Pkw87DYlzdth"
      },
      "source": [
        "<font color='green'>Do the off-diagonal and diagonal entries match your expectations?  Why or why not?\n",
        "\n",
        "Answer: As expected, the off-diagonal entries are the variance 9 along that particular direction (variance = standard deviation ^2 = 9). Since the variables are random and independent of each other, the correlation should be zero. Although the off-diagonal entries are close to 0 they are not quite 0 and this may be due to relatively low sample size.\n",
        "\n",
        "</font> \n",
        "\n"
      ]
    },
    {
      "cell_type": "markdown",
      "metadata": {
        "id": "B0WNkHHqXsRW"
      },
      "source": [
        "###Eigenvalues and eigenvectors of the covariance matrix"
      ]
    },
    {
      "cell_type": "markdown",
      "metadata": {
        "id": "zSA1YpBtWyTP"
      },
      "source": [
        "Lastly, an important means of characterizing the covariance matrix is through its eigenvectors ($\\hat{v}_1,\\hat{v}_2,\\ldots,\\hat{v}_d$) and eigenvalues ($\\lambda_1,\\lambda_2,\\ldots,\\lambda_d$).  Importantly, these quantities often will provide information about how multiple variables are (linearly) interacting.\n",
        "\n",
        "For those who haven't had linear algebra yet (or are in need of a brief review), eigenvectors and eigenvalues are pairs of scalar quantities (eigenvalues) and vectors (naturally, eigenvectors), that satisfy the equation:\n",
        "\\begin{equation}\n",
        "C \\hat{v}_i = \\lambda_i \\hat{v}_i,\n",
        "\\end{equation}\n",
        "where $C$ is the covariance matrix.\n",
        "\n",
        "For symmetric, real, matrices like the covariance matrix, the eigenvectors and eigenvalues obey the following properties (amongst others):\n",
        "- Each of the eigenvectors are orthogonal to each other ($\\hat{v}_i\\cdot \\hat{v}_j = 0$ if $i\\ne j$)\n",
        "- By convention, each eigenvector has a norm of 1 ($\\hat{v}_i \\cdot \\hat{v}_i = 1$).\n",
        "- Unless any of the data columns generating $C$ are exact multiples of each other (highly unlikely for any real data), the eigenvectors will span $\\Re^d$.  In other words, any $d$-dimensional real vector can be written as a linear combination of the eigenvectors\n",
        "- All of the eigenvalues must be greater than or equal to zero and strictly greater than zero unless any of the data columns generating $C$ are exact multiples of each other (again, a highly-unlikely thing to have happen).\n"
      ]
    },
    {
      "cell_type": "markdown",
      "metadata": {
        "id": "mGWPmeMJoApw"
      },
      "source": [
        "More conceptually, we can think of the eigenvectors as the directions where most variance in the data lie.  More precisely, if we order the eigenvalues such that $\\lambda_1 \\ge \\lambda_2 \\ge \\ldots \\lambda_d > 0$, then, $\\hat{v}_1$ is the direction in the data set where we see the most variance, $\\hat{v}_2$ is the direction with the second-most variance, and so on.  Moreover, $\\lambda_i$ is the variance in the data when projecting it onto $\\hat{v}_i$.  Don't worry, however, if this doesn't quite click now.  We will discuss this property in detail on Wednesday when we introduce Principal Components Analysis (PCA)."
      ]
    },
    {
      "cell_type": "markdown",
      "metadata": {
        "id": "ZxuVEeSVvUPy"
      },
      "source": [
        "####Calculating eigenvalues and eigenvectors in ```numpy```"
      ]
    },
    {
      "cell_type": "markdown",
      "metadata": {
        "id": "uRaHHYMzri-i"
      },
      "source": [
        "To find the eigenvectors and values of a matrix in ```numpy```, you can use the ```linalg.eig()``` function.  Here, the syntax is \n",
        "\n",
        "```eigvals,eigvecs = linalg.eig(A) ```\n",
        "\n",
        "where ```A``` is the matrix you wish to find the eigenvalues of, ```eigvals``` is a $1\\times d$ vector of eigenvectors, and ```eigvecs``` is a $d\\times d$ matrix of eigenvectors (each column is associated with the corresponding eigenvalues -- e.g., ```eigvecs[:,0]``` is the eigenvalue pair of ```eigvals[0]```)."
      ]
    },
    {
      "cell_type": "markdown",
      "metadata": {
        "id": "DXiquJIWwpuM"
      },
      "source": [
        "<font color='blue'> Question #4: Calculate and display the eigenvectors and eigenvalues for the matrix you generated in Question #3.  How do these findings compare to what you would expect for a matrix with random entries? </font>"
      ]
    },
    {
      "cell_type": "code",
      "metadata": {
        "id": "7FrtxmYrwpRu",
        "colab": {
          "base_uri": "https://localhost:8080/",
          "height": 238
        },
        "outputId": "2c7e6a1c-2ff0-4ebe-d0f2-abf6d98e35e7"
      },
      "source": [
        "eigvals,eigvecs = linalg.eig(c)\n",
        "print(eigvals)\n",
        "\n",
        "print(eigvecs)\n",
        "\n",
        "#example of normal matrix\n",
        "y = random.normal(0,3,size=(1000,5))\n",
        "print(y)\n",
        "\n",
        "\n"
      ],
      "execution_count": null,
      "outputs": [
        {
          "output_type": "stream",
          "text": [
            "[9.91307368 9.4785589  8.4788402  8.39937927 8.68486268]\n",
            "[[-0.92131682  0.3353182  -0.19532069 -0.02067302 -0.01262862]\n",
            " [ 0.06824979  0.01697058 -0.3170016   0.64899094 -0.68802232]\n",
            " [ 0.04550908 -0.09035555 -0.25122789 -0.75637909 -0.59543263]\n",
            " [ 0.3794511   0.84498877 -0.34024501 -0.07721186  0.14241664]\n",
            " [ 0.02151915 -0.40632937 -0.82612208  0.01767436  0.38941404]]\n",
            "[[ 4.43137466  3.65007937  0.43641395  3.58942802 -0.2415536 ]\n",
            " [ 3.86584725  1.95389593  3.34351654  4.03025207  4.21539667]\n",
            " [-4.02692273  1.58055224 -3.58752027 -0.79781608 -0.69791886]\n",
            " ...\n",
            " [-0.05020895  0.11798986  1.11701004 -2.54249465  0.47100874]\n",
            " [-3.14379937  8.6762922   2.29252754  1.86352234  2.88737667]\n",
            " [-1.34086676 -1.76533461  1.23299776 -3.75130764  1.39232422]]\n"
          ],
          "name": "stdout"
        }
      ]
    },
    {
      "cell_type": "markdown",
      "metadata": {
        "id": "rP0_UAch0ILB"
      },
      "source": [
        "<font color = \"green\">  How do these findings compare to what you would expect for a matrix with random entries?\n",
        "\n",
        "Answer: For a matrix with random entries, I would expect values that are not only close to 0's. For example, creating a random matrix with a mean of 0 and standard deviation of 3 would give me a wide range of values such as -4.2, 1.6, and 8.1. In contrast, the eigenvalues are all close to the variance of that matrix and the eigenvectors all range around 0. </font>"
      ]
    },
    {
      "cell_type": "markdown",
      "metadata": {
        "id": "i9IS_F8t1Vac"
      },
      "source": [
        "As a note, it is often useful to sort the eigenvalues/vectors according to the eigenvalues.  To achieve this, you can use the following script:"
      ]
    },
    {
      "cell_type": "code",
      "metadata": {
        "id": "fjRogMXI1Up7",
        "colab": {
          "base_uri": "https://localhost:8080/",
          "height": 34
        },
        "outputId": "9343047a-78df-4989-d231-7bab65a84abf"
      },
      "source": [
        "idx = eigvals.argsort()[::-1]\n",
        "eigvals = eigvals[idx]\n",
        "eigvecs = eigvecs[:,idx]\n",
        "print(eigvals)"
      ],
      "execution_count": null,
      "outputs": [
        {
          "output_type": "stream",
          "text": [
            "[9.91307368 9.4785589  8.68486268 8.4788402  8.39937927]\n"
          ],
          "name": "stdout"
        }
      ]
    },
    {
      "cell_type": "markdown",
      "metadata": {
        "id": "qeCW7q6mVWPH"
      },
      "source": [
        "## Measuring the covariance matrix"
      ]
    },
    {
      "cell_type": "markdown",
      "metadata": {
        "id": "XUOC-L6KVffi"
      },
      "source": [
        "Like any other empirically derived quantity, the covariance matrix is a quantity that we estimate from data.  Thus, we are often tasked with the job of figuring-out what aspects of the apparent structure in our measured covariance matrix are \"real\" and what aspects could be generated by statistical fluctuations.  In this section, we will investigate aspects of this problem, but we will return to this topic (in a more formal manner) later in the course."
      ]
    },
    {
      "cell_type": "markdown",
      "metadata": {
        "id": "7aiRnNaFPVi7"
      },
      "source": [
        "###Calculating the covariance matrix from samples"
      ]
    },
    {
      "cell_type": "markdown",
      "metadata": {
        "id": "aQiih0JQ52zb"
      },
      "source": [
        "For this section, we will start by looking at samples from data drawn from a 3-D gaussian (normal) distribution with a mean of zero ($\\vec{\\mu} = \\left(\\begin{matrix}\n",
        "0 \\\\\n",
        "0 \\\\ \n",
        "0\n",
        "\\end{matrix}\\right)$) and a covariance matrix, $C = \\left(\\begin{matrix}\n",
        "9 & 4 & -2\\\\\n",
        "4 & 4 & 1/10 \\\\\n",
        "-2 & 1/10 & 1\n",
        "\\end{matrix}\\right)$.  The code in the cell below will generate and plot a data set of 100 random samples from the distribution."
      ]
    },
    {
      "cell_type": "code",
      "metadata": {
        "id": "3KaM9hG34Vwb",
        "colab": {
          "base_uri": "https://localhost:8080/",
          "height": 715
        },
        "outputId": "c9a2dc6f-d21b-4e96-ae71-24f5ff25af5d"
      },
      "source": [
        "#initialize parameters\n",
        "N = 100\n",
        "cov_matrix = [[9,4,-2],[4,4,.1],[-2,.1,1]]\n",
        "mean_data = [0,0,0]\n",
        "\n",
        "#draw N random samples from the gaussian\n",
        "data = random.multivariate_normal(mean_data,cov_matrix,size=N)\n",
        "\n",
        "#plotting each column against each other column\n",
        "fig = plt.figure(figsize=(12,12))\n",
        "plt.subplot(3,3,2)\n",
        "plt.plot(data[:,0],data[:,1],'.')\n",
        "plt.title('$x_0$ vs. $x_1$')\n",
        "\n",
        "plt.subplot(3,3,3)\n",
        "plt.plot(data[:,0],data[:,2],'.')\n",
        "plt.title('$x_0$ vs. $x_2$')\n",
        "\n",
        "plt.subplot(3,3,4)\n",
        "plt.plot(data[:,1],data[:,0],'.')\n",
        "plt.title('$x_1$ vs. $x_0$')\n",
        "\n",
        "plt.subplot(3,3,6)\n",
        "plt.plot(data[:,1],data[:,2],'.')\n",
        "plt.title('$x_1$ vs. $x_2$')\n",
        "\n",
        "plt.subplot(3,3,7)\n",
        "plt.plot(data[:,2],data[:,0],'.')\n",
        "plt.title('$x_2$ vs. $x_0$')\n",
        "\n",
        "plt.subplot(3,3,8)\n",
        "plt.plot(data[:,2],data[:,1],'.')\n",
        "plt.title('$x_2$ vs. $x_1$')\n",
        "\n",
        "plt.show()"
      ],
      "execution_count": null,
      "outputs": [
        {
          "output_type": "display_data",
          "data": {
            "image/png": "[encoded data removed]",
            "text/plain": [
              "<Figure size 864x864 with 6 Axes>"
            ]
          },
          "metadata": {
            "tags": [],
            "needs_background": "light"
          }
        }
      ]
    },
    {
      "cell_type": "markdown",
      "metadata": {
        "id": "hueAi8er7lDk"
      },
      "source": [
        "<font color='blue'> Question #5: Calculate and print the mean and the standarde error of the mean (s.e.m. = $\\sigma/\\sqrt{N-1}$) for the samples you just generated.  Is your value for the $\\mu$ within error of zero? (Note: to take the mean along a column of data, you need to use ```np.mean(data,axis=0)```)</font>"
      ]
    },
    {
      "cell_type": "code",
      "metadata": {
        "id": "ngp2JFhJ4sDZ",
        "colab": {
          "base_uri": "https://localhost:8080/",
          "height": 51
        },
        "outputId": "474b892e-d73c-4bdf-d488-895802827cba"
      },
      "source": [
        "mean = np.mean(data,axis=0)\n",
        "print(mean)\n",
        "\n",
        "sem = np.std(data, axis=0)/np.sqrt(99)\n",
        "print(sem)"
      ],
      "execution_count": null,
      "outputs": [
        {
          "output_type": "stream",
          "text": [
            "[-0.0076671   0.04614394  0.04811932]\n",
            "[0.31540128 0.21524379 0.11069505]\n"
          ],
          "name": "stdout"
        }
      ]
    },
    {
      "cell_type": "markdown",
      "metadata": {
        "id": "wsRmdPBZ-SN_"
      },
      "source": [
        "<font color = \"green\">  Is your value for the  𝜇  within error of zero? \n",
        "\n",
        "Answer: Two of the three columns have means that are within error of zero. </font>"
      ]
    },
    {
      "cell_type": "markdown",
      "metadata": {
        "id": "j-Re3Kzo9yxv"
      },
      "source": [
        "<font color='blue'> Question #6: Calculate and print the covariance matrix for the same samples as in Question #5.  How does it compate to the actual covariance matrix?</font>"
      ]
    },
    {
      "cell_type": "code",
      "metadata": {
        "id": "VYdt64S1-_4i",
        "colab": {
          "base_uri": "https://localhost:8080/",
          "height": 68
        },
        "outputId": "3924a797-6093-4200-efe6-4db662af8356"
      },
      "source": [
        "np.cov(data.T)"
      ],
      "execution_count": null,
      "outputs": [
        {
          "output_type": "execute_result",
          "data": {
            "text/plain": [
              "array([[ 9.94779696,  4.28260872, -2.21631118],\n",
              "       [ 4.28260872,  4.63298905,  0.36087151],\n",
              "       [-2.21631118,  0.36087151,  1.22533946]])"
            ]
          },
          "metadata": {
            "tags": []
          },
          "execution_count": 10
        }
      ]
    },
    {
      "cell_type": "markdown",
      "metadata": {
        "id": "nfW6zjPW9Xji"
      },
      "source": [
        "<font color = \"green\">  How does it compate to the actual covariance matrix? \n",
        "\n",
        "Answer: The values correspond to the actual covariance matrix, but the entries are more precise and include up to 8th decimal places. </font>"
      ]
    },
    {
      "cell_type": "markdown",
      "metadata": {
        "id": "R2Pa487M_Ohp"
      },
      "source": [
        "###Distributions of sampled covariance matrices"
      ]
    },
    {
      "cell_type": "markdown",
      "metadata": {
        "id": "kYyRnaMh_gM1"
      },
      "source": [
        "This, of course, is just one simulated data set.  When trying to assess how having a finite sampling size (and all data sets are of finite size!) affects our results."
      ]
    },
    {
      "cell_type": "markdown",
      "metadata": {
        "id": "TOCLYyS8H3sw"
      },
      "source": [
        "The code below will calculate the means, covariances matrices, and eigenvalues (sorted from largest to smallest) for 20,000 different instantiations of the 3-D gaussian described above.  ```means``` is a 20,000 x 3 matrix of the means from each instantiation, ```cov_matrices``` is a 20,000 x 3 x 3 array of covariance matrices, and ```eigenvalues`` is a 20,000 x 3 array of eigenvalues, arranged from largest to smallest."
      ]
    },
    {
      "cell_type": "code",
      "metadata": {
        "id": "4ISSI_jbH42k"
      },
      "source": [
        "numDataSets = 20000\n",
        "N = 100\n",
        "cov_matrix = [[9,4,-2],[4,4,.1],[-2,.1,1]]\n",
        "mean_data = [0,0,0]\n",
        "\n",
        "cov_matrices = np.zeros((numDataSets,3,3)) #20000x3x3 array of covariance matrices with all entries 0\n",
        "means = np.zeros((numDataSets,3)) #20000x3 matrix of the means from each instantiation with all entries 0\n",
        "eigenvalues = np.zeros((numDataSets,3)) #20000x3 array of eigenvalues with all entries 0\n",
        "for i in range(numDataSets):\n",
        "    temp_data = random.multivariate_normal(mean_data,cov_matrix,size=N) #generate a data set of 100 normally-dstributed data points in 2D\n",
        "    cov_matrices[i,:,:] = np.cov(temp_data.T)\n",
        "    means[i,:] = np.mean(temp_data,axis=0)\n",
        "    eigvals,eigvecs = linalg.eig(cov_matrices[i,:,:])\n",
        "    eigvals[::-1].sort()\n",
        "    eigenvalues[i,:] = eigvals\n",
        "\n"
      ],
      "execution_count": null,
      "outputs": []
    },
    {
      "cell_type": "markdown",
      "metadata": {
        "id": "hxzpeNycSFXy"
      },
      "source": [
        "<font color='blue'> Question #7: Using the results from the code above, make 50-bin histograms for each of the nine covariance matrix entries (you can use the same ```plt.subplot()``` code as shown above).  Do the actual values lie within the found distributions?</font>"
      ]
    },
    {
      "cell_type": "code",
      "metadata": {
        "id": "P4GqWUR-SEif",
        "colab": {
          "base_uri": "https://localhost:8080/",
          "height": 265
        },
        "outputId": "e28c531d-21ee-46e0-b8c3-b6a460f653ff"
      },
      "source": [
        "#initialize parameters\n",
        "N = 100\n",
        "cov_matrix = [[9,4,-2],[4,4,.1],[-2,.1,1]]\n",
        "mean_data = [0,0,0]\n",
        "\n",
        "#draw N random samples from the gaussian\n",
        "data = random.multivariate_normal(mean_data,cov_matrix,size=N)\n",
        "\n",
        "#plotting each column against each other column\n",
        "plt.subplot(9,1,1)\n",
        "plt.hist(cov_matrices[:,0,0] ,50) \n",
        "plt.subplot(9,1,2)\n",
        "plt.hist(cov_matrices[:,0,1] ,50)\n",
        "plt.subplot(9,1,3)\n",
        "plt.hist(cov_matrices[:,0,2] ,50)\n",
        "plt.subplot(9,1,4)\n",
        "plt.hist(cov_matrices[:,1,1] ,50)\n",
        "plt.subplot(9,1,5)\n",
        "plt.hist(cov_matrices[:,1,0] ,50)\n",
        "plt.subplot(9,1,6)\n",
        "plt.hist(cov_matrices[:,1,2] ,50)\n",
        "plt.subplot(9,1,7)\n",
        "plt.hist(cov_matrices[:,2,1] ,50)\n",
        "plt.subplot(9,1,8)\n",
        "plt.hist(cov_matrices[:,2,2] ,50)\n",
        "plt.subplot(9,1,9)\n",
        "plt.hist(cov_matrices[:,2,0] ,50)\n",
        "\n",
        "plt.show()\n"
      ],
      "execution_count": null,
      "outputs": [
        {
          "output_type": "display_data",
          "data": {
            "image/png": "[encoded data removed]",
            "text/plain": [
              "<Figure size 432x288 with 9 Axes>"
            ]
          },
          "metadata": {
            "tags": [],
            "needs_background": "light"
          }
        }
      ]
    },
    {
      "cell_type": "markdown",
      "metadata": {
        "id": "5xd89HknT01z"
      },
      "source": [
        "<font color='green'> Do the actual values lie within the found distributions?\n",
        "\n",
        "They seem to lie within the found distributions.</font>"
      ]
    },
    {
      "cell_type": "markdown",
      "metadata": {
        "id": "sXQYhHpnTh5x"
      },
      "source": [
        "<font color='blue'> Question #8: Using the results from the code above, make 50-bin histograms for each of the three covariance matrix eigenvalues.  Do the distributions look gaussian, or are they asymmetric?</font>\n"
      ]
    },
    {
      "cell_type": "code",
      "metadata": {
        "id": "QNLtlUXSUQ3W",
        "colab": {
          "base_uri": "https://localhost:8080/",
          "height": 622
        },
        "outputId": "2705c769-a9e0-49ca-cb8a-773edb556186"
      },
      "source": [
        "plt.subplot(3,1,1)\n",
        "plt.hist(eigenvalues[:,0] ,50)\n",
        "plt.subplot(3,1,2)\n",
        "plt.hist(eigenvalues[:,1] ,50)\n",
        "plt.subplot(3,1,3)\n",
        "plt.hist(eigenvalues[:,2] ,50)\n"
      ],
      "execution_count": null,
      "outputs": [
        {
          "output_type": "execute_result",
          "data": {
            "text/plain": [
              "(array([3.000e+00, 1.000e+00, 3.000e+00, 5.000e+00, 2.000e+01, 3.500e+01,\n",
              "        5.700e+01, 1.110e+02, 1.620e+02, 2.330e+02, 3.170e+02, 4.630e+02,\n",
              "        6.270e+02, 7.240e+02, 8.950e+02, 1.015e+03, 1.126e+03, 1.192e+03,\n",
              "        1.341e+03, 1.303e+03, 1.254e+03, 1.245e+03, 1.210e+03, 1.067e+03,\n",
              "        1.011e+03, 8.870e+02, 7.290e+02, 6.210e+02, 5.180e+02, 4.380e+02,\n",
              "        3.430e+02, 2.530e+02, 1.950e+02, 1.480e+02, 1.360e+02, 8.100e+01,\n",
              "        7.500e+01, 4.800e+01, 3.500e+01, 2.200e+01, 1.500e+01, 1.200e+01,\n",
              "        8.000e+00, 3.000e+00, 6.000e+00, 3.000e+00, 1.000e+00, 1.000e+00,\n",
              "        1.000e+00, 1.000e+00]),\n",
              " array([0.0420413 , 0.04394252, 0.04584373, 0.04774495, 0.04964617,\n",
              "        0.05154738, 0.0534486 , 0.05534982, 0.05725103, 0.05915225,\n",
              "        0.06105346, 0.06295468, 0.0648559 , 0.06675711, 0.06865833,\n",
              "        0.07055955, 0.07246076, 0.07436198, 0.0762632 , 0.07816441,\n",
              "        0.08006563, 0.08196685, 0.08386806, 0.08576928, 0.0876705 ,\n",
              "        0.08957171, 0.09147293, 0.09337415, 0.09527536, 0.09717658,\n",
              "        0.0990778 , 0.10097901, 0.10288023, 0.10478144, 0.10668266,\n",
              "        0.10858388, 0.11048509, 0.11238631, 0.11428753, 0.11618874,\n",
              "        0.11808996, 0.11999118, 0.12189239, 0.12379361, 0.12569483,\n",
              "        0.12759604, 0.12949726, 0.13139848, 0.13329969, 0.13520091,\n",
              "        0.13710213]),\n",
              " <a list of 50 Patch objects>)"
            ]
          },
          "metadata": {
            "tags": []
          },
          "execution_count": 13
        },
        {
          "output_type": "display_data",
          "data": {
            "image/png": "[encoded data removed]",
            "text/plain": [
              "<Figure size 432x288 with 3 Axes>"
            ]
          },
          "metadata": {
            "tags": [],
            "needs_background": "light"
          }
        }
      ]
    },
    {
      "cell_type": "markdown",
      "metadata": {
        "id": "StdlxrTGUR7M"
      },
      "source": [
        "<font color='green'> Do the distributions look gaussian, or are they asymmetric? \n",
        "\n",
        "Answer: they look gaussian. </font>"
      ]
    },
    {
      "cell_type": "markdown",
      "metadata": {
        "id": "ipRz5gtqWej8"
      },
      "source": [
        "###Assessing statistical significance for eigenvalues"
      ]
    },
    {
      "cell_type": "markdown",
      "metadata": {
        "id": "A881C-MzWw2U"
      },
      "source": [
        "One way of performing *dimensionality reduction* (i.e., translating a high-dimensional representation into a lower-dimensional one) is to project a data set onto the space of eigenvectors corresponding to eigenvalues that are \"significantly\" different from zero.  Below, we will see one way of performing this assessment via independently shuffling the columns of a data matrix.\n",
        "\n",
        "(Editorial note: I put \"significantly\" in scare quotes here, as I don't really like the term -- it's really just a way to pretend that an arbitrary threshold is really a magic value that delineates success from failure.  OK, Rant over.  For now.)"
      ]
    },
    {
      "cell_type": "markdown",
      "metadata": {
        "id": "MB3octCBZHeV"
      },
      "source": [
        "Let's go back again to our 3-D gaussian matrix from before."
      ]
    },
    {
      "cell_type": "code",
      "metadata": {
        "id": "UVkiZ-ytWCc-",
        "colab": {
          "base_uri": "https://localhost:8080/",
          "height": 1717
        },
        "outputId": "f90fe64c-f6d2-4ef0-8e01-629723e560c5"
      },
      "source": [
        "#initialize parameters\n",
        "N = 100\n",
        "cov_matrix = [[9,4,-2],[4,4,.1],[-2,.1,1]]\n",
        "mean_data = [0,0,0]\n",
        "\n",
        "#draw N random samples from the gaussian\n",
        "data = random.multivariate_normal(mean_data,cov_matrix,size=N)\n",
        "print(data)"
      ],
      "execution_count": null,
      "outputs": [
        {
          "output_type": "stream",
          "text": [
            "[[-4.02143298e+00 -2.89439492e+00  2.48707394e-02]\n",
            " [-2.56059746e+00  5.01035098e-01  1.39622037e+00]\n",
            " [ 1.65486937e-01 -1.83160311e-01  8.47603346e-02]\n",
            " [ 2.62476953e+00  4.53399536e-01 -1.49428775e+00]\n",
            " [-3.20837009e+00 -1.50446003e+00  6.40396503e-01]\n",
            " [-5.43482545e-01 -6.34966496e-01 -1.92602298e-01]\n",
            " [ 4.87603634e+00  3.95130240e+00 -5.96771516e-01]\n",
            " [-4.87831389e+00 -4.23698383e+00  3.21695223e-01]\n",
            " [ 3.05022232e+00  9.29723037e-01 -1.22321684e+00]\n",
            " [-3.74227861e+00 -3.39152345e-01  1.93167335e+00]\n",
            " [ 3.89455113e+00  1.15178160e+00 -6.96507544e-01]\n",
            " [-1.17132914e+00  4.52577635e-01  1.19133417e+00]\n",
            " [-1.69037189e+00  5.07495187e-01  1.31377442e+00]\n",
            " [ 5.53178483e-01  1.86414004e-01 -8.84310672e-01]\n",
            " [ 1.35591649e+00 -1.09687697e+00 -6.66647053e-01]\n",
            " [-3.56432637e+00 -1.48788606e+00  1.10128889e+00]\n",
            " [ 1.01691398e+00 -9.46102635e-01 -6.64231720e-01]\n",
            " [-1.73003259e+00 -1.83531455e+00  1.46999143e-01]\n",
            " [-7.57981660e-01 -2.12231999e+00 -3.05231766e-01]\n",
            " [ 1.93964404e+00  6.11890597e-01 -2.02084529e-01]\n",
            " [-1.43232566e+00 -1.26740952e+00  1.29910134e-02]\n",
            " [ 2.90072987e+00 -5.48428913e-01 -1.62906244e+00]\n",
            " [-1.39612035e+00 -3.02136070e+00 -2.70606147e-01]\n",
            " [ 1.11996560e+00  9.08853489e-01 -2.25338201e-03]\n",
            " [-2.33278888e+00 -1.37456011e+00  6.50448717e-01]\n",
            " [ 2.55109205e-01  1.08722843e+00  1.65862226e-01]\n",
            " [ 1.03106469e+00  1.17561539e+00  1.19865718e-01]\n",
            " [-2.89581293e+00 -1.17204604e+00  2.49698176e-03]\n",
            " [-7.91369808e-01  8.44982065e-01  6.43408856e-01]\n",
            " [ 2.99222120e-01 -2.61840994e+00 -1.30414907e+00]\n",
            " [-3.40527682e+00 -3.27006152e+00 -7.90507906e-02]\n",
            " [ 4.06293314e-01 -7.93389575e-01 -6.32234226e-01]\n",
            " [ 1.27094999e+00 -9.26699341e-01 -1.20747831e+00]\n",
            " [-2.97159249e-01 -4.94202063e+00 -2.14563588e+00]\n",
            " [-7.44530979e-01 -3.40083621e+00 -7.81078941e-01]\n",
            " [-3.27409907e+00 -2.65040148e+00 -3.89835882e-02]\n",
            " [ 1.19688073e+00 -7.21245831e-01 -1.06357511e-01]\n",
            " [ 4.35556020e+00  3.26103233e-01 -1.15345683e+00]\n",
            " [-2.24622340e+00  7.02453971e-01  1.67860591e+00]\n",
            " [-2.54151561e+00 -2.31950092e+00 -2.35447628e-01]\n",
            " [-1.15961857e+00  9.23028469e-01  1.35476638e+00]\n",
            " [-1.53861287e+00 -2.50235709e+00 -4.79107275e-01]\n",
            " [ 9.19492570e-01  1.62942739e+00  4.85826391e-01]\n",
            " [-6.61773664e-01  6.31879977e-01  5.24290941e-01]\n",
            " [ 1.43719737e+00  2.72136190e-01 -9.32001203e-01]\n",
            " [-2.96487835e+00 -3.00726323e+00  1.51521209e-02]\n",
            " [ 3.34818962e+00  2.33310603e+00 -5.72811301e-01]\n",
            " [-1.19602273e+00 -5.03533480e-01  1.81396682e-01]\n",
            " [ 3.64500998e+00  2.02136103e+00 -4.60773132e-01]\n",
            " [ 5.78820008e+00  4.08920529e+00 -6.70996077e-01]\n",
            " [ 1.41127475e+00 -1.13904603e+00 -7.53188519e-01]\n",
            " [ 8.86502960e-01  9.01840904e-01  9.78627285e-02]\n",
            " [ 9.36625044e-01  9.28258937e-01 -5.48344884e-01]\n",
            " [-3.79034722e+00 -2.07752233e+00  3.23474350e-01]\n",
            " [ 8.21434614e-01  1.97984925e+00  3.46574966e-01]\n",
            " [-9.81336318e-01 -2.52876431e+00 -8.43571433e-01]\n",
            " [ 6.69679791e+00  3.24589012e+00 -1.26405773e+00]\n",
            " [-3.22447734e+00 -7.04786672e-01  8.35017996e-01]\n",
            " [-8.97108847e-01  5.07068711e-01  4.47619826e-01]\n",
            " [ 2.09512281e+00  8.10390142e-01 -8.26278542e-01]\n",
            " [-7.11128671e+00 -1.65367322e+00  2.21788140e+00]\n",
            " [ 8.43563257e-02 -2.66916354e-01 -3.63120035e-01]\n",
            " [ 9.50309862e-01  2.96507923e+00  1.58520202e+00]\n",
            " [-7.95843838e-01 -3.33713342e-01  7.98418718e-01]\n",
            " [ 1.28081628e+00 -1.45417114e+00 -1.22251728e+00]\n",
            " [-1.32980539e-01  4.67800177e-01  3.21094697e-01]\n",
            " [ 1.14406286e+00 -2.10210132e-01 -8.19467092e-01]\n",
            " [ 5.49192334e+00  3.14250084e+00 -9.59260553e-01]\n",
            " [ 2.18325105e+00  2.93441651e-01 -2.32983572e-01]\n",
            " [ 2.22866611e+00  1.75928684e+00 -3.35977775e-01]\n",
            " [ 6.91609663e+00  2.26413460e+00 -2.18618913e+00]\n",
            " [ 6.46133217e+00  3.37680179e+00 -9.80496029e-01]\n",
            " [ 1.45545374e+00 -1.52900036e+00 -1.44820643e+00]\n",
            " [-3.81411751e+00 -9.72741322e-01  6.34035747e-01]\n",
            " [ 9.59923532e-01  1.59507095e-01 -2.27955203e-01]\n",
            " [-1.30937702e+00  1.80083719e-01  8.68278613e-01]\n",
            " [ 1.49276803e+00  1.51165045e+00  6.64269799e-01]\n",
            " [ 1.28434469e+00 -2.78011681e+00 -1.61654649e+00]\n",
            " [ 3.74726345e+00 -3.36606296e-01 -2.10567680e+00]\n",
            " [-1.45480664e+00  1.02907396e-02 -1.40963821e-01]\n",
            " [-1.93541446e+00  2.57632878e+00  2.35567517e+00]\n",
            " [-1.24691240e-01  1.13788963e+00  5.89455177e-01]\n",
            " [ 1.16153859e-01 -1.36389309e+00 -3.01804126e-01]\n",
            " [-1.88956080e+00  8.07744423e-01  7.92701321e-01]\n",
            " [-1.63409757e+00 -2.90465176e+00 -5.23978157e-01]\n",
            " [ 2.58432872e+00  3.04705164e+00 -2.93692115e-01]\n",
            " [ 3.08948109e+00  5.88101113e-01 -8.15807637e-01]\n",
            " [-7.16502587e+00 -1.78483699e+00  2.41013572e+00]\n",
            " [-3.90055766e+00 -2.63937476e+00  5.43732828e-02]\n",
            " [ 1.96886638e+00 -7.86170109e-01 -1.29612715e+00]\n",
            " [ 5.85047914e-01 -9.95596352e-01 -5.39656306e-01]\n",
            " [ 3.06784304e+00 -3.23722625e-01 -1.89215815e+00]\n",
            " [-4.55974675e+00 -2.24317942e+00  7.07891948e-01]\n",
            " [-1.53957025e+00  1.10142027e+00  1.23856151e+00]\n",
            " [-2.77355230e+00  1.97761180e+00  2.27987311e+00]\n",
            " [-5.48514887e+00 -2.43351274e+00  1.32110692e+00]\n",
            " [-7.23555321e+00 -3.99768128e+00  1.00032283e+00]\n",
            " [-1.06012576e+00  1.43415727e+00  1.18450578e+00]\n",
            " [ 2.18953843e+00 -7.47344990e-01 -9.30028805e-01]\n",
            " [ 5.46843896e-01  3.71121564e-01  5.82177451e-01]]\n"
          ],
          "name": "stdout"
        }
      ]
    },
    {
      "cell_type": "markdown",
      "metadata": {
        "id": "0mZEzbevZlIz"
      },
      "source": [
        "Because the covariance matrix has off-diagonal terms, the are correlations between the three measured variables.  A natural question to ask, though, is: *if there were no correlations, might we still see some by accident just because we've only measured a finite number of data points?*\n",
        "\n",
        "One way to answer this question is to shuffle each of the columns independently from one another.  Thus, the resulting matrix **should** have no correlations, but, of course, will display some correlations due to noise from finite sampling.  We then will measure the resulting eigenvalues from these shuffled matrices, repeat the process multiple times, and will compare the resulting distribution of eigenvalues from shuffled matrices to the eigenvalues from the measured samples."
      ]
    },
    {
      "cell_type": "markdown",
      "metadata": {
        "id": "fhh5rBfLckHR"
      },
      "source": [
        "First, to shuffle the columns in the matrix, we can use the following code:"
      ]
    },
    {
      "cell_type": "code",
      "metadata": {
        "id": "1Qy-X21tWE6m"
      },
      "source": [
        "shuffled_data = np.copy(data)\n",
        "#note: we can't say \"shuffled_data = data\" like in matlab or R, because then, \n",
        "#the created variable would be linked to the old variable\n",
        "for i in range(3): #dimension is 3\n",
        "  random.shuffle(shuffled_data[:,i])"
      ],
      "execution_count": null,
      "outputs": []
    },
    {
      "cell_type": "markdown",
      "metadata": {
        "id": "Gh8pnt4Yfrn9"
      },
      "source": [
        "<font color='blue'> Question #9: Calculate the covariance matrix eigenvalues (sorted from largest to smallest) from the ```data``` matrix above.</font>\n"
      ]
    },
    {
      "cell_type": "code",
      "metadata": {
        "id": "hHuusgo1f-YQ",
        "colab": {
          "base_uri": "https://localhost:8080/",
          "height": 34
        },
        "outputId": "96f21dc9-b00a-433f-9d11-c544d2037a41"
      },
      "source": [
        "\n",
        "for i in range(3):\n",
        "    cov_matrices[i,:,:] = np.cov(data.T)\n",
        "    eigvals,eigvecs = linalg.eig(cov_matrices[i,:,:])\n",
        "    eigvals[::-1].sort() #sorting\n",
        "    eigenvalues[i,:] = eigvals\n",
        "\n",
        "print(eigvals)"
      ],
      "execution_count": null,
      "outputs": [
        {
          "output_type": "stream",
          "text": [
            "[10.6004027   2.40186363  0.08037534]\n"
          ],
          "name": "stdout"
        }
      ]
    },
    {
      "cell_type": "markdown",
      "metadata": {
        "id": "-Yjsvr6KgEDk"
      },
      "source": [
        "<font color='blue'> Question #10: Perform the shuffling analysis described in the paragraph above on the ```data``` matrix (perform the shuffling 1,000 times.  Create 50-bin histograms for the each of the three eigenvalues (remember to sort!). </font>\n"
      ]
    },
    {
      "cell_type": "code",
      "metadata": {
        "id": "kO0cO1Oxg2bS",
        "colab": {
          "base_uri": "https://localhost:8080/",
          "height": 540
        },
        "outputId": "3f55b0ef-bbc0-45d2-8131-33a4f5ebb303"
      },
      "source": [
        "shuffled_data = np.copy(data)\n",
        "\n",
        "eigs = np.zeros((1000,3))\n",
        "\n",
        "for i in range(1000):\n",
        "  for j in range(3):\n",
        "    random.shuffle(shuffled_data[:,j])\n",
        "  cov_matrices[j,:,:] = np.cov(shuffled_data.T)\n",
        "  eigvals,eigvecs = linalg.eig(cov_matrices[j,:,:])\n",
        "  eigvals[::-1].sort() #sorting\n",
        "  eigs[i,:] = eigvals\n",
        "\n",
        "plt.subplot(1,3,1)\n",
        "plt.hist(eigs[:,0] ,50)\n",
        "\n",
        "plt.subplot(1,3,2)\n",
        "plt.hist(eigs[:,1] ,50)\n",
        "\n",
        "plt.subplot(1,3,3)\n",
        "plt.hist(eigs[:,2] ,50)\n",
        "\n",
        "\n"
      ],
      "execution_count": null,
      "outputs": [
        {
          "output_type": "execute_result",
          "data": {
            "text/plain": [
              "(array([ 1.,  1.,  1.,  0.,  2.,  0.,  0.,  1.,  1.,  1.,  2.,  0.,  2.,\n",
              "         1.,  0.,  8.,  3.,  0.,  1.,  4.,  1.,  4.,  5.,  7.,  5.,  3.,\n",
              "         8.,  7., 13.,  6., 11., 18., 25., 26., 30., 25., 25., 33., 34.,\n",
              "        24., 34., 56., 46., 59., 47., 65., 84., 81., 95., 94.]),\n",
              " array([0.8917836 , 0.89464661, 0.89750962, 0.90037262, 0.90323563,\n",
              "        0.90609864, 0.90896165, 0.91182466, 0.91468767, 0.91755068,\n",
              "        0.92041369, 0.9232767 , 0.92613971, 0.92900271, 0.93186572,\n",
              "        0.93472873, 0.93759174, 0.94045475, 0.94331776, 0.94618077,\n",
              "        0.94904378, 0.95190679, 0.9547698 , 0.9576328 , 0.96049581,\n",
              "        0.96335882, 0.96622183, 0.96908484, 0.97194785, 0.97481086,\n",
              "        0.97767387, 0.98053688, 0.98339989, 0.9862629 , 0.9891259 ,\n",
              "        0.99198891, 0.99485192, 0.99771493, 1.00057794, 1.00344095,\n",
              "        1.00630396, 1.00916697, 1.01202998, 1.01489299, 1.01775599,\n",
              "        1.020619  , 1.02348201, 1.02634502, 1.02920803, 1.03207104,\n",
              "        1.03493405]),\n",
              " <a list of 50 Patch objects>)"
            ]
          },
          "metadata": {
            "tags": []
          },
          "execution_count": 17
        },
        {
          "output_type": "display_data",
          "data": {
            "image/png": "[encoded data removed]",
            "text/plain": [
              "<Figure size 432x288 with 3 Axes>"
            ]
          },
          "metadata": {
            "tags": [],
            "needs_background": "light"
          }
        }
      ]
    },
    {
      "cell_type": "markdown",
      "metadata": {
        "id": "PVf7XZL-g89z"
      },
      "source": [
        "<font color='blue'> Question #11: In the histograms above, are the resulting distributions symmetric or non-symmetric?  If the latter, is there a more definitive upper-bound or a more definitive lower-bound?</font>\n"
      ]
    },
    {
      "cell_type": "markdown",
      "metadata": {
        "id": "PJIA6VBLhZ8P"
      },
      "source": [
        "<font color='green'> Answer: All three histograms are non-symmetric. The first histogram has a more definitive lower bound which seems to be around 9.5 and the third histogram has a more definitive upper bound that looks like it's around 1.0. I can't really tell for the middle histogram but it seems to have a more definitive upper bound aroung 4.5 compared to the lower bound.  </font>"
      ]
    },
    {
      "cell_type": "markdown",
      "metadata": {
        "id": "Aq4UbwiVhjnB"
      },
      "source": [
        "<font color='blue'> Question #12: Given your answers to Questions #9, 10, and 11, which of the three eigenvalues that you've measured from ```data``` would you consider as \"signficant\" ? Explain your reasoning.</font>\n"
      ]
    },
    {
      "cell_type": "markdown",
      "metadata": {
        "id": "UhaVMN0JiGVV"
      },
      "source": [
        "<font color='green'> \n",
        "\n",
        "Answer: Out of the three eigenvalues, 8.72 could be considered as significant. When creating a covariance matrix and computing eigenvalues and eigenvectors during principal component analysis of high-dimensional data, it is critical to retain as much information as possible while successfully reducing the dimentionality. This is done by capturing the maximum amount of variance. After sorting the three eigenvalues in descending order, the first component accounts for the largest variance, which is 8.72 in our case.   </font>\n"
      ]
    }
  ]
}